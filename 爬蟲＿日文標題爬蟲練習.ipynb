{
 "cells": [
  {
   "cell_type": "code",
   "execution_count": 18,
   "metadata": {
    "scrolled": true
   },
   "outputs": [
    {
     "name": "stdout",
     "output_type": "stream",
     "text": [
      "01「にする」決定\n",
      "02「がする」感到、覺得\n",
      "03「について」關於\n",
      "04「によると」根據、依據\n",
      "05「になる」變化\n",
      "06「形容詞さ」表程度\n",
      "07「日文形容詞變化」\n",
      "08「形容詞+がる」表他人感覺\n",
      "09「形容動詞變化」\n",
      "10「と」表假定條件\n",
      "11「ば」表假定條件\n",
      "12「たら」表假定條件\n",
      "13「なら」表假定條件\n",
      "14「（さ）せる」使役助動詞\n",
      "15「（ら）れる」被動/可能/自發/尊敬\n",
      "16「ていく」補助動詞\n",
      "17「てくる」補助動詞\n",
      "18「てみる」補助動詞\n",
      "19「てしまう」補助動詞\n",
      "20「ておく」補助動詞\n",
      "21「ず」和「ぬ」否定助動詞\n",
      "22「そうだ」樣態助動詞\n",
      "23「そうだ」傳聞助動詞\n",
      "24「らしい」推量助動詞\n",
      "25「ようだ」比況助動詞\n",
      "26「みたいだ」比況助動詞\n",
      "27「そうだ・ようだ・らしい・みたい」的差別\n",
      "28「授受動詞」あげる、くれる、もらう\n",
      "29「て形+授受動詞」てあげる、てくれる、てもらう\n",
      "30「～でございます」\n",
      "31「 (よ)うとする・思う」\n",
      "32「ので」表原因\n",
      "33「のに」（逆接、目的）\n",
      "34「複合動詞」\n",
      "35「おV2になる(尊敬)・する(謙讓)」\n",
      "36「V2+かた」表做法\n",
      "37「ために」目的、原因\n",
      "38「つもり」打算\n",
      "39「～なさい」命令\n",
      "40「ことがある・たことがある」\n",
      "41「ことになる・ことにする・ことができる」\n",
      "42「ところ・ばかり」\n",
      "43「ようにする・ようになる」\n",
      "44「ように言う（指示、命令）」\n",
      "45「てはいけない、てはならない、てはだめだ」\n",
      "46「ても・てもいい・てもかまわない」\n",
      "47「それで、そこで」所以、因此\n",
      "48「まで」範圍、期間、類推（まで、までに的差別）\n",
      "49「も」副助詞\n",
      "50「し」接續助詞\n",
      "51「でも」副助詞\n",
      "52「かい・だい・の・な・のだ（んだ）」終助詞\n",
      "53「副詞系列」(最終章)\n"
     ]
    }
   ],
   "source": [
    "import requests\n",
    "from bs4 import BeautifulSoup\n",
    "# from selenium import webdriver\n",
    "# from selenium.webdriver.common.by import By\n",
    "\n",
    "\n",
    "\n",
    "# n4文法爬蟲\n",
    "url = \"https://www.sigure.tw/learn-japanese/grammar/n4/\"\n",
    "res=requests.get(url)\n",
    "\n",
    "soup=BeautifulSoup(res.text,\"html.parser\")\n",
    "title=soup.find_all(\"td\" ,{\"class\":\"list-title\"}) \n",
    "\n",
    "\n",
    "for titles in title:\n",
    "    total=titles.text\n",
    "    nonspace=total.strip()\n",
    "    print(nonspace.replace(\"N4文法\",\"\"))\n",
    "\n"
   ]
  },
  {
   "cell_type": "code",
   "execution_count": 66,
   "metadata": {
    "scrolled": true
   },
   "outputs": [
    {
     "data": {
      "text/plain": [
       "[]"
      ]
     },
     "execution_count": 66,
     "metadata": {},
     "output_type": "execute_result"
    }
   ],
   "source": [
    "# N3文法爬蟲\n",
    "import requests\n",
    "from bs4 import BeautifulSoup\n",
    "\n",
    "\n",
    "n3=\"https://www.sigure.tw/learn-japanese/grammar/n3/\"\n",
    "n3_list=requests.get(n3)\n",
    "\n",
    "soup1=BeautifulSoup(n3_list.text,\"html.parser\")\n",
    "title_n3=soup1.select(\"td\",{\"class\":\"odd\"}) \n",
    "\n",
    "# for titles_n3 in title_n3:\n",
    "#     ts=titles_n3.text\n",
    "#     a=ts.replace(\"N3文法\",\"\")"
   ]
  },
  {
   "cell_type": "code",
   "execution_count": null,
   "metadata": {},
   "outputs": [],
   "source": []
  }
 ],
 "metadata": {
  "kernelspec": {
   "display_name": "Python 3",
   "language": "python",
   "name": "python3"
  },
  "language_info": {
   "codemirror_mode": {
    "name": "ipython",
    "version": 3
   },
   "file_extension": ".py",
   "mimetype": "text/x-python",
   "name": "python",
   "nbconvert_exporter": "python",
   "pygments_lexer": "ipython3",
   "version": "3.9.0"
  }
 },
 "nbformat": 4,
 "nbformat_minor": 2
}
